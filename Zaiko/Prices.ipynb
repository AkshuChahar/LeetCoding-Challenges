{
 "cells": [
  {
   "cell_type": "code",
   "execution_count": null,
   "metadata": {},
   "outputs": [],
   "source": [
    "import pandas as pd\n",
    "import numpy as np\n",
    "import matplotlib.pyplot as plt\n",
    "import seaborn as sns"
   ]
  },
  {
   "cell_type": "code",
   "execution_count": null,
   "metadata": {},
   "outputs": [],
   "source": [
    "orig = pd.read_csv(\"Mumbai1.csv\")"
   ]
  },
  {
   "cell_type": "code",
   "execution_count": null,
   "metadata": {},
   "outputs": [],
   "source": [
    "orig = orig.iloc[:,1:]"
   ]
  },
  {
   "cell_type": "code",
   "execution_count": null,
   "metadata": {},
   "outputs": [],
   "source": [
    "orig.Location.unique()"
   ]
  },
  {
   "cell_type": "code",
   "execution_count": null,
   "metadata": {
    "scrolled": true
   },
   "outputs": [],
   "source": [
    "orig['Location'].value_counts().head(10)"
   ]
  },
  {
   "cell_type": "markdown",
   "metadata": {},
   "source": [
    "## KHARGHAR"
   ]
  },
  {
   "cell_type": "code",
   "execution_count": null,
   "metadata": {},
   "outputs": [],
   "source": [
    "data1 = pd.DataFrame()\n",
    "data1 = orig[orig['Location'].str.contains('Kharghar')]\n",
    "data1['Location'] = [\"Kharghar\" for x in data1['Location']] \n",
    "data1"
   ]
  },
  {
   "cell_type": "code",
   "execution_count": null,
   "metadata": {},
   "outputs": [],
   "source": [
    "sns.scatterplot(x = data1[\"No. of Bedrooms\"], y = data1[\"Price\"])"
   ]
  },
  {
   "cell_type": "code",
   "execution_count": null,
   "metadata": {},
   "outputs": [],
   "source": [
    "sns.scatterplot(x = data1[\"Area\"], y = data1[\"Price\"])"
   ]
  },
  {
   "cell_type": "code",
   "execution_count": null,
   "metadata": {},
   "outputs": [],
   "source": [
    "df1 = pd.DataFrame()\n",
    "df1 = data1.loc[(data1[\"No. of Bedrooms\"]<4) & (data1[\"Price\"]<25000000) & (data1[\"Area\"]<=2000)]\n",
    "df1"
   ]
  },
  {
   "cell_type": "code",
   "execution_count": null,
   "metadata": {},
   "outputs": [],
   "source": [
    "df1.describe()"
   ]
  },
  {
   "cell_type": "code",
   "execution_count": null,
   "metadata": {
    "scrolled": false
   },
   "outputs": [],
   "source": [
    "#sns.heatmap(df1.corr(), annot=True, lw=1, annot_kws={\"size\": 5})"
   ]
  },
  {
   "cell_type": "code",
   "execution_count": null,
   "metadata": {
    "scrolled": false
   },
   "outputs": [],
   "source": [
    "df1.corr()"
   ]
  },
  {
   "cell_type": "code",
   "execution_count": null,
   "metadata": {},
   "outputs": [],
   "source": [
    "#x = df1[[\"Area\", \"No. of Bedrooms\", \"Gymnasium\", \"Car Parking\"]]\n",
    "x = df1.drop([\"Location\", \"Price\"], axis=1)\n",
    "y = df1[\"Price\"]\n",
    "x"
   ]
  },
  {
   "cell_type": "code",
   "execution_count": null,
   "metadata": {},
   "outputs": [],
   "source": [
    "from sklearn.model_selection import train_test_split\n",
    "\n",
    "X_train, X_test, y_train, y_test = train_test_split(x, y, test_size = 0.2, shuffle = True, random_state=1)"
   ]
  },
  {
   "cell_type": "code",
   "execution_count": null,
   "metadata": {},
   "outputs": [],
   "source": [
    "x_train = pd.DataFrame()\n",
    "x_train[\"Area\"] = X_train[\"Area\"]/X_train[\"Area\"].max()\n",
    "x_train = pd.concat((x_train, X_train.drop(\"Area\", axis=1)),axis=1)\n",
    "\n",
    "x_test = pd.DataFrame()\n",
    "x_test[\"Area\"] = X_test[\"Area\"]/X_test[\"Area\"].max()\n",
    "x_test = pd.concat((x_test, X_test.drop(\"Area\", axis=1)),axis=1)"
   ]
  },
  {
   "cell_type": "code",
   "execution_count": null,
   "metadata": {},
   "outputs": [],
   "source": [
    "# Building RandomForestRegressor().\n",
    "\n",
    "from sklearn.ensemble import RandomForestRegressor\n",
    "\n",
    "regressor = RandomForestRegressor(n_estimators= 20, random_state=1)\n",
    "regressor.fit(x_train, y_train)"
   ]
  },
  {
   "cell_type": "code",
   "execution_count": null,
   "metadata": {},
   "outputs": [],
   "source": [
    "y_pred = regressor.predict(x_test).round(1)\n",
    "y_pred"
   ]
  },
  {
   "cell_type": "code",
   "execution_count": null,
   "metadata": {},
   "outputs": [],
   "source": [
    "result = pd.DataFrame(data={'predictions': y_pred, 'actual': y_test})\n",
    "result[\"difference\"] = abs(result[\"predictions\"] - result[\"actual\"]).round(1)\n",
    "#result.to_csv(\"Result1.csv\")\n",
    "result"
   ]
  },
  {
   "cell_type": "code",
   "execution_count": null,
   "metadata": {},
   "outputs": [],
   "source": [
    "result.describe().round(1)"
   ]
  },
  {
   "cell_type": "code",
   "execution_count": null,
   "metadata": {},
   "outputs": [],
   "source": [
    "from sklearn import metrics\n",
    "print('MAE:', metrics.mean_absolute_error(y_test, y_pred))  \n",
    "print('MSE:', metrics.mean_squared_error(y_test, y_pred))  \n",
    "print('RMSE:', np.sqrt(metrics.mean_squared_error(y_test, y_pred)))\n",
    "print('R2_Score:', metrics.r2_score(y_test,y_pred))"
   ]
  },
  {
   "cell_type": "code",
   "execution_count": null,
   "metadata": {},
   "outputs": [],
   "source": [
    "#Visualising the results\n",
    "fig = plt.figure(figsize=(10,5))\n",
    "plt.scatter(y_test,y_pred)\n",
    "\n",
    "plt.plot(y_pred,y_pred,'r')"
   ]
  },
  {
   "cell_type": "code",
   "execution_count": null,
   "metadata": {
    "scrolled": true
   },
   "outputs": [],
   "source": [
    "predicted_test = pd.concat((result, X_test),axis=1)\n",
    "predicted_test.to_csv(\"Kharghar.csv\")\n",
    "predicted_test.head()"
   ]
  },
  {
   "cell_type": "code",
   "execution_count": null,
   "metadata": {},
   "outputs": [],
   "source": [
    "sns.scatterplot(x = predicted_test[\"No. of Bedrooms\"], y = predicted_test[\"predictions\"], hue = predicted_test[\"difference\"])"
   ]
  },
  {
   "cell_type": "code",
   "execution_count": null,
   "metadata": {},
   "outputs": [],
   "source": [
    "sns.scatterplot(x = predicted_test[\"Area\"], y = predicted_test[\"actual\"])\n",
    "sns.scatterplot(x = predicted_test[\"Area\"], y = predicted_test[\"predictions\"], hue = predicted_test[\"difference\"])"
   ]
  },
  {
   "cell_type": "markdown",
   "metadata": {},
   "source": [
    "## MIRA ROAD"
   ]
  },
  {
   "cell_type": "code",
   "execution_count": null,
   "metadata": {},
   "outputs": [],
   "source": [
    "data2 = pd.DataFrame()\n",
    "data2 = orig[orig['Location'].str.contains('Mira Road')]\n",
    "data2['Location'] = [\"Mira Road\" for x in data2['Location']] \n",
    "data2"
   ]
  },
  {
   "cell_type": "code",
   "execution_count": null,
   "metadata": {},
   "outputs": [],
   "source": [
    "sns.scatterplot(x = data2[\"No. of Bedrooms\"], y = data2[\"Price\"])"
   ]
  },
  {
   "cell_type": "code",
   "execution_count": null,
   "metadata": {},
   "outputs": [],
   "source": [
    "sns.scatterplot(x = data2[\"Area\"], y = data2[\"Price\"])"
   ]
  },
  {
   "cell_type": "code",
   "execution_count": null,
   "metadata": {},
   "outputs": [],
   "source": [
    "df2 = pd.DataFrame()\n",
    "df2 = data2.loc[(data2[\"No. of Bedrooms\"]<3) & (data2[\"Price\"]<15000000) & (data2[\"Area\"]<=1300)]\n",
    "df2"
   ]
  },
  {
   "cell_type": "code",
   "execution_count": null,
   "metadata": {},
   "outputs": [],
   "source": [
    "df2.describe()"
   ]
  },
  {
   "cell_type": "code",
   "execution_count": null,
   "metadata": {
    "scrolled": false
   },
   "outputs": [],
   "source": [
    "df2.corr()"
   ]
  },
  {
   "cell_type": "code",
   "execution_count": null,
   "metadata": {},
   "outputs": [],
   "source": [
    "#x = df2[[\"Area\", \"No. of Bedrooms\", \"Gymnasium\"]]\n",
    "x = df2.drop([\"Location\", \"Price\"], axis=1)\n",
    "y = df2[\"Price\"]"
   ]
  },
  {
   "cell_type": "code",
   "execution_count": null,
   "metadata": {},
   "outputs": [],
   "source": [
    "from sklearn.model_selection import train_test_split\n",
    "\n",
    "X_train, X_test, y_train, y_test = train_test_split(x, y, test_size = 0.2, shuffle = True, random_state=1)"
   ]
  },
  {
   "cell_type": "code",
   "execution_count": null,
   "metadata": {},
   "outputs": [],
   "source": [
    "x_train = pd.DataFrame()\n",
    "x_train[\"Area\"] = X_train[\"Area\"]/X_train[\"Area\"].max()\n",
    "x_train = pd.concat((x_train, X_train.drop(\"Area\", axis=1)),axis=1)\n",
    "\n",
    "x_test = pd.DataFrame()\n",
    "x_test[\"Area\"] = X_test[\"Area\"]/X_test[\"Area\"].max()\n",
    "x_test = pd.concat((x_test, X_test.drop(\"Area\", axis=1)),axis=1)"
   ]
  },
  {
   "cell_type": "code",
   "execution_count": null,
   "metadata": {},
   "outputs": [],
   "source": [
    "# Building RandomForestRegressor().\n",
    "\n",
    "from sklearn.ensemble import RandomForestRegressor\n",
    "\n",
    "regressor = RandomForestRegressor(n_estimators= 20, random_state=1)\n",
    "regressor.fit(x_train, y_train)"
   ]
  },
  {
   "cell_type": "code",
   "execution_count": null,
   "metadata": {},
   "outputs": [],
   "source": [
    "y_pred = regressor.predict(x_test).round(1)\n",
    "y_pred"
   ]
  },
  {
   "cell_type": "code",
   "execution_count": null,
   "metadata": {},
   "outputs": [],
   "source": [
    "result = pd.DataFrame(data={'predictions': y_pred, 'actual': y_test})\n",
    "result[\"difference\"] = abs(result[\"predictions\"] - result[\"actual\"]).round(1)\n",
    "#result.to_csv(\"Result1.csv\")\n",
    "result"
   ]
  },
  {
   "cell_type": "code",
   "execution_count": null,
   "metadata": {},
   "outputs": [],
   "source": [
    "result.describe().round(1)"
   ]
  },
  {
   "cell_type": "code",
   "execution_count": null,
   "metadata": {},
   "outputs": [],
   "source": [
    "from sklearn import metrics\n",
    "print('MAE:', metrics.mean_absolute_error(y_test, y_pred))  \n",
    "print('MSE:', metrics.mean_squared_error(y_test, y_pred))  \n",
    "print('RMSE:', np.sqrt(metrics.mean_squared_error(y_test, y_pred)))\n",
    "print('R2_Score:', metrics.r2_score(y_test,y_pred))"
   ]
  },
  {
   "cell_type": "code",
   "execution_count": null,
   "metadata": {},
   "outputs": [],
   "source": [
    "#Visualising the results\n",
    "fig = plt.figure(figsize=(10,5))\n",
    "plt.scatter(y_test,y_pred)\n",
    "\n",
    "plt.plot(y_pred,y_pred,'r')"
   ]
  },
  {
   "cell_type": "code",
   "execution_count": null,
   "metadata": {
    "scrolled": true
   },
   "outputs": [],
   "source": [
    "predicted_test = pd.concat((result, X_test),axis=1)\n",
    "predicted_test.to_csv(\"Mira Road.csv\")\n",
    "predicted_test.head()"
   ]
  },
  {
   "cell_type": "code",
   "execution_count": null,
   "metadata": {},
   "outputs": [],
   "source": [
    "sns.scatterplot(x = predicted_test[\"No. of Bedrooms\"], y = predicted_test[\"predictions\"], hue = predicted_test[\"difference\"])"
   ]
  },
  {
   "cell_type": "code",
   "execution_count": null,
   "metadata": {},
   "outputs": [],
   "source": [
    "sns.scatterplot(x = predicted_test[\"Area\"], y = predicted_test[\"actual\"])\n",
    "sns.scatterplot(x = predicted_test[\"Area\"], y = predicted_test[\"predictions\"], hue = predicted_test[\"difference\"])"
   ]
  },
  {
   "cell_type": "markdown",
   "metadata": {},
   "source": [
    "## BORIVALI WEST"
   ]
  },
  {
   "cell_type": "code",
   "execution_count": null,
   "metadata": {},
   "outputs": [],
   "source": [
    "data3 = pd.DataFrame()\n",
    "data3 = orig[orig['Location'].str.contains('Borivali West')]\n",
    "data3['Location'] = [\"Borivali West\" for x in data3['Location']] \n",
    "data3"
   ]
  },
  {
   "cell_type": "code",
   "execution_count": null,
   "metadata": {},
   "outputs": [],
   "source": [
    "sns.scatterplot(x = data3[\"No. of Bedrooms\"], y = data3[\"Price\"])"
   ]
  },
  {
   "cell_type": "code",
   "execution_count": null,
   "metadata": {},
   "outputs": [],
   "source": [
    "sns.scatterplot(x = data3[\"Area\"], y = data3[\"Price\"])"
   ]
  },
  {
   "cell_type": "code",
   "execution_count": null,
   "metadata": {},
   "outputs": [],
   "source": [
    "df3 = pd.DataFrame()\n",
    "df3 = data3.loc[(data3[\"No. of Bedrooms\"]<4) & (data3[\"Price\"]<30000000) & (data3[\"Area\"]<=1500)]\n",
    "df3"
   ]
  },
  {
   "cell_type": "code",
   "execution_count": null,
   "metadata": {},
   "outputs": [],
   "source": [
    "df3.describe()"
   ]
  },
  {
   "cell_type": "code",
   "execution_count": null,
   "metadata": {
    "scrolled": false
   },
   "outputs": [],
   "source": [
    "df3.corr()"
   ]
  },
  {
   "cell_type": "code",
   "execution_count": null,
   "metadata": {},
   "outputs": [],
   "source": [
    "#x = df3[[\"Area\", \"No. of Bedrooms\", \"Gymnasium\", \"Car Parking\"]]\n",
    "x = df3.drop([\"Location\", \"Price\"], axis=1)\n",
    "y = df3[\"Price\"]"
   ]
  },
  {
   "cell_type": "code",
   "execution_count": null,
   "metadata": {},
   "outputs": [],
   "source": [
    "from sklearn.model_selection import train_test_split\n",
    "\n",
    "X_train, X_test, y_train, y_test = train_test_split(x, y, test_size = 0.2, shuffle = True, random_state=1)"
   ]
  },
  {
   "cell_type": "code",
   "execution_count": null,
   "metadata": {},
   "outputs": [],
   "source": [
    "x_train = pd.DataFrame()\n",
    "x_train[\"Area\"] = X_train[\"Area\"]/X_train[\"Area\"].max()\n",
    "x_train = pd.concat((x_train, X_train.drop(\"Area\", axis=1)),axis=1)\n",
    "\n",
    "x_test = pd.DataFrame()\n",
    "x_test[\"Area\"] = X_test[\"Area\"]/X_test[\"Area\"].max()\n",
    "x_test = pd.concat((x_test, X_test.drop(\"Area\", axis=1)),axis=1)"
   ]
  },
  {
   "cell_type": "code",
   "execution_count": null,
   "metadata": {},
   "outputs": [],
   "source": [
    "# Building RandomForestRegressor().\n",
    "\n",
    "from sklearn.ensemble import RandomForestRegressor\n",
    "\n",
    "regressor = RandomForestRegressor(n_estimators= 20, random_state=1)\n",
    "regressor.fit(x_train, y_train)"
   ]
  },
  {
   "cell_type": "code",
   "execution_count": null,
   "metadata": {},
   "outputs": [],
   "source": [
    "y_pred = regressor.predict(x_test).round(1)\n",
    "y_pred"
   ]
  },
  {
   "cell_type": "code",
   "execution_count": null,
   "metadata": {},
   "outputs": [],
   "source": [
    "result = pd.DataFrame(data={'predictions': y_pred, 'actual': y_test})\n",
    "result[\"difference\"] = abs(result[\"predictions\"] - result[\"actual\"]).round(1)\n",
    "#result.to_csv(\"Result1.csv\")\n",
    "result"
   ]
  },
  {
   "cell_type": "code",
   "execution_count": null,
   "metadata": {},
   "outputs": [],
   "source": [
    "result.describe().round(1)"
   ]
  },
  {
   "cell_type": "code",
   "execution_count": null,
   "metadata": {},
   "outputs": [],
   "source": [
    "from sklearn import metrics\n",
    "print('MAE:', metrics.mean_absolute_error(y_test, y_pred))  \n",
    "print('MSE:', metrics.mean_squared_error(y_test, y_pred))  \n",
    "print('RMSE:', np.sqrt(metrics.mean_squared_error(y_test, y_pred)))\n",
    "print('R2_Score:', metrics.r2_score(y_test,y_pred))"
   ]
  },
  {
   "cell_type": "code",
   "execution_count": null,
   "metadata": {},
   "outputs": [],
   "source": [
    "#Visualising the results\n",
    "fig = plt.figure(figsize=(10,5))\n",
    "plt.scatter(y_test,y_pred)\n",
    "\n",
    "plt.plot(y_pred,y_pred,'r')"
   ]
  },
  {
   "cell_type": "code",
   "execution_count": null,
   "metadata": {
    "scrolled": true
   },
   "outputs": [],
   "source": [
    "predicted_test = pd.concat((result, X_test),axis=1)\n",
    "predicted_test.to_csv(\"Borivali West.csv\")\n",
    "predicted_test.head()"
   ]
  },
  {
   "cell_type": "code",
   "execution_count": null,
   "metadata": {},
   "outputs": [],
   "source": [
    "sns.scatterplot(x = predicted_test[\"No. of Bedrooms\"], y = predicted_test[\"predictions\"], hue = predicted_test[\"difference\"])"
   ]
  },
  {
   "cell_type": "code",
   "execution_count": null,
   "metadata": {
    "scrolled": true
   },
   "outputs": [],
   "source": [
    "sns.scatterplot(x = predicted_test[\"Area\"], y = predicted_test[\"actual\"])\n",
    "sns.scatterplot(x = predicted_test[\"Area\"], y = predicted_test[\"predictions\"], hue = predicted_test[\"difference\"])"
   ]
  },
  {
   "cell_type": "markdown",
   "metadata": {},
   "source": [
    "## MALAD WEST"
   ]
  },
  {
   "cell_type": "code",
   "execution_count": null,
   "metadata": {},
   "outputs": [],
   "source": [
    "data4 = pd.DataFrame()\n",
    "data4 = orig[orig['Location'].str.contains('Malad West')]\n",
    "data4['Location'] = [\"Malad West\" for x in data4['Location']] \n",
    "data4"
   ]
  },
  {
   "cell_type": "code",
   "execution_count": null,
   "metadata": {},
   "outputs": [],
   "source": [
    "sns.scatterplot(x = data4[\"No. of Bedrooms\"], y = data4[\"Price\"])"
   ]
  },
  {
   "cell_type": "code",
   "execution_count": null,
   "metadata": {},
   "outputs": [],
   "source": [
    "sns.scatterplot(x = data4[\"Area\"], y = data4[\"Price\"])"
   ]
  },
  {
   "cell_type": "code",
   "execution_count": null,
   "metadata": {},
   "outputs": [],
   "source": [
    "df4 = pd.DataFrame()\n",
    "df4 = data4.loc[(data4[\"No. of Bedrooms\"]<3) & (data4[\"Price\"]<25000000) & (data4[\"Area\"]<=1250)]\n",
    "df4"
   ]
  },
  {
   "cell_type": "code",
   "execution_count": null,
   "metadata": {},
   "outputs": [],
   "source": [
    "df4.describe()"
   ]
  },
  {
   "cell_type": "code",
   "execution_count": null,
   "metadata": {
    "scrolled": false
   },
   "outputs": [],
   "source": [
    "df4.corr()"
   ]
  },
  {
   "cell_type": "code",
   "execution_count": null,
   "metadata": {},
   "outputs": [],
   "source": [
    "#x = df5[[\"Area\", \"No. of Bedrooms\", \"Gymnasium\", \"Car Parking\"]]\n",
    "x = df4.drop([\"Location\", \"Price\"], axis=1)\n",
    "y = df4[\"Price\"]"
   ]
  },
  {
   "cell_type": "code",
   "execution_count": null,
   "metadata": {},
   "outputs": [],
   "source": [
    "from sklearn.model_selection import train_test_split\n",
    "\n",
    "X_train, X_test, y_train, y_test = train_test_split(x, y, test_size = 0.2, shuffle = True, random_state=1)"
   ]
  },
  {
   "cell_type": "code",
   "execution_count": null,
   "metadata": {},
   "outputs": [],
   "source": [
    "x_train = pd.DataFrame()\n",
    "x_train[\"Area\"] = X_train[\"Area\"]/X_train[\"Area\"].max()\n",
    "x_train = pd.concat((x_train, X_train.drop(\"Area\", axis=1)),axis=1)\n",
    "\n",
    "x_test = pd.DataFrame()\n",
    "x_test[\"Area\"] = X_test[\"Area\"]/X_test[\"Area\"].max()\n",
    "x_test = pd.concat((x_test, X_test.drop(\"Area\", axis=1)),axis=1)"
   ]
  },
  {
   "cell_type": "code",
   "execution_count": null,
   "metadata": {},
   "outputs": [],
   "source": [
    "# Building RandomForestRegressor().\n",
    "\n",
    "from sklearn.ensemble import RandomForestRegressor\n",
    "\n",
    "regressor = RandomForestRegressor(n_estimators= 20, random_state=1)\n",
    "regressor.fit(x_train, y_train)"
   ]
  },
  {
   "cell_type": "code",
   "execution_count": null,
   "metadata": {},
   "outputs": [],
   "source": [
    "y_pred = regressor.predict(x_test).round(1)\n",
    "y_pred"
   ]
  },
  {
   "cell_type": "code",
   "execution_count": null,
   "metadata": {},
   "outputs": [],
   "source": [
    "result = pd.DataFrame(data={'predictions': y_pred, 'actual': y_test})\n",
    "result[\"difference\"] = abs(result[\"predictions\"] - result[\"actual\"]).round(1)\n",
    "#result.to_csv(\"Result1.csv\")\n",
    "result"
   ]
  },
  {
   "cell_type": "code",
   "execution_count": null,
   "metadata": {},
   "outputs": [],
   "source": [
    "result.describe().round(1)"
   ]
  },
  {
   "cell_type": "code",
   "execution_count": null,
   "metadata": {},
   "outputs": [],
   "source": [
    "from sklearn import metrics\n",
    "print('MAE:', metrics.mean_absolute_error(y_test, y_pred))  \n",
    "print('MSE:', metrics.mean_squared_error(y_test, y_pred))  \n",
    "print('RMSE:', np.sqrt(metrics.mean_squared_error(y_test, y_pred)))\n",
    "print('R2_Score:', metrics.r2_score(y_test,y_pred))"
   ]
  },
  {
   "cell_type": "code",
   "execution_count": null,
   "metadata": {},
   "outputs": [],
   "source": [
    "#Visualising the results\n",
    "fig = plt.figure(figsize=(10,5))\n",
    "plt.scatter(y_test,y_pred)\n",
    "\n",
    "plt.plot(y_pred,y_pred,'r')"
   ]
  },
  {
   "cell_type": "code",
   "execution_count": null,
   "metadata": {
    "scrolled": true
   },
   "outputs": [],
   "source": [
    "predicted_test = pd.concat((result, X_test),axis=1)\n",
    "predicted_test.to_csv(\"Malad West.csv\")\n",
    "predicted_test.head()"
   ]
  },
  {
   "cell_type": "code",
   "execution_count": null,
   "metadata": {},
   "outputs": [],
   "source": [
    "sns.scatterplot(x = predicted_test[\"No. of Bedrooms\"], y = predicted_test[\"predictions\"], hue = predicted_test[\"difference\"])"
   ]
  },
  {
   "cell_type": "code",
   "execution_count": null,
   "metadata": {
    "scrolled": true
   },
   "outputs": [],
   "source": [
    "sns.scatterplot(x = predicted_test[\"Area\"], y = predicted_test[\"actual\"])\n",
    "sns.scatterplot(x = predicted_test[\"Area\"], y = predicted_test[\"predictions\"], hue = predicted_test[\"difference\"])"
   ]
  },
  {
   "cell_type": "markdown",
   "metadata": {},
   "source": [
    "## THANE WEST"
   ]
  },
  {
   "cell_type": "code",
   "execution_count": null,
   "metadata": {},
   "outputs": [],
   "source": [
    "data5 = pd.DataFrame()\n",
    "data5 = orig[orig['Location'].str.contains('Thane West')]\n",
    "data5['Location'] = [\"Thane West\" for x in data5['Location']] \n",
    "data5"
   ]
  },
  {
   "cell_type": "code",
   "execution_count": null,
   "metadata": {},
   "outputs": [],
   "source": [
    "sns.scatterplot(x = data5[\"No. of Bedrooms\"], y = data5[\"Price\"])"
   ]
  },
  {
   "cell_type": "code",
   "execution_count": null,
   "metadata": {},
   "outputs": [],
   "source": [
    "sns.scatterplot(x = data5[\"Area\"], y = data5[\"Price\"])"
   ]
  },
  {
   "cell_type": "code",
   "execution_count": null,
   "metadata": {},
   "outputs": [],
   "source": [
    "df5 = pd.DataFrame()\n",
    "df5 = data5.loc[(data5[\"No. of Bedrooms\"]<=4) & (data5[\"Price\"]<30000000) & (data5[\"Area\"]<=2000)]\n",
    "df5"
   ]
  },
  {
   "cell_type": "code",
   "execution_count": null,
   "metadata": {},
   "outputs": [],
   "source": [
    "df5.describe()"
   ]
  },
  {
   "cell_type": "code",
   "execution_count": null,
   "metadata": {
    "scrolled": false
   },
   "outputs": [],
   "source": [
    "df5.corr()"
   ]
  },
  {
   "cell_type": "code",
   "execution_count": null,
   "metadata": {},
   "outputs": [],
   "source": [
    "#x = df6[[\"Area\", \"No. of Bedrooms\", \"Gymnasium\", \"Car Parking\"]]\n",
    "x = df5.drop([\"Location\", \"Price\"], axis=1)\n",
    "y = df5[\"Price\"]"
   ]
  },
  {
   "cell_type": "code",
   "execution_count": null,
   "metadata": {},
   "outputs": [],
   "source": [
    "from sklearn.model_selection import train_test_split\n",
    "\n",
    "X_train, X_test, y_train, y_test = train_test_split(x, y, test_size = 0.2, shuffle = True, random_state=1)"
   ]
  },
  {
   "cell_type": "code",
   "execution_count": null,
   "metadata": {},
   "outputs": [],
   "source": [
    "x_train = pd.DataFrame()\n",
    "x_train[\"Area\"] = X_train[\"Area\"]/X_train[\"Area\"].max()\n",
    "x_train = pd.concat((x_train, X_train.drop(\"Area\", axis=1)),axis=1)\n",
    "\n",
    "x_test = pd.DataFrame()\n",
    "x_test[\"Area\"] = X_test[\"Area\"]/X_test[\"Area\"].max()\n",
    "x_test = pd.concat((x_test, X_test.drop(\"Area\", axis=1)),axis=1)"
   ]
  },
  {
   "cell_type": "code",
   "execution_count": null,
   "metadata": {},
   "outputs": [],
   "source": [
    "# Building RandomForestRegressor().\n",
    "\n",
    "from sklearn.ensemble import RandomForestRegressor\n",
    "\n",
    "regressor = RandomForestRegressor(n_estimators= 20, random_state=1)\n",
    "regressor.fit(x_train, y_train)"
   ]
  },
  {
   "cell_type": "code",
   "execution_count": null,
   "metadata": {},
   "outputs": [],
   "source": [
    "y_pred = regressor.predict(x_test).round(1)\n",
    "y_pred"
   ]
  },
  {
   "cell_type": "code",
   "execution_count": null,
   "metadata": {},
   "outputs": [],
   "source": [
    "result = pd.DataFrame(data={'predictions': y_pred, 'actual': y_test})\n",
    "result[\"difference\"] = abs(result[\"predictions\"] - result[\"actual\"]).round(1)\n",
    "#result.to_csv(\"Result1.csv\")\n",
    "result"
   ]
  },
  {
   "cell_type": "code",
   "execution_count": null,
   "metadata": {},
   "outputs": [],
   "source": [
    "result.describe().round(1)"
   ]
  },
  {
   "cell_type": "code",
   "execution_count": null,
   "metadata": {},
   "outputs": [],
   "source": [
    "from sklearn import metrics\n",
    "print('MAE:', metrics.mean_absolute_error(y_test, y_pred))  \n",
    "print('MSE:', metrics.mean_squared_error(y_test, y_pred))  \n",
    "print('RMSE:', np.sqrt(metrics.mean_squared_error(y_test, y_pred)))\n",
    "print('R2_Score:', metrics.r2_score(y_test,y_pred))"
   ]
  },
  {
   "cell_type": "code",
   "execution_count": null,
   "metadata": {},
   "outputs": [],
   "source": [
    "#Visualising the results\n",
    "fig = plt.figure(figsize=(10,5))\n",
    "plt.scatter(y_test,y_pred)\n",
    "\n",
    "plt.plot(y_pred,y_pred,'r')"
   ]
  },
  {
   "cell_type": "code",
   "execution_count": null,
   "metadata": {
    "scrolled": true
   },
   "outputs": [],
   "source": [
    "predicted_test = pd.concat((result, X_test),axis=1)\n",
    "predicted_test.to_csv(\"Thane West.csv\")\n",
    "predicted_test.head()"
   ]
  },
  {
   "cell_type": "code",
   "execution_count": null,
   "metadata": {},
   "outputs": [],
   "source": [
    "sns.scatterplot(x = predicted_test[\"No. of Bedrooms\"], y = predicted_test[\"predictions\"], hue = predicted_test[\"difference\"])"
   ]
  },
  {
   "cell_type": "code",
   "execution_count": null,
   "metadata": {},
   "outputs": [],
   "source": [
    "sns.scatterplot(x = predicted_test[\"Area\"], y = predicted_test[\"actual\"])\n",
    "sns.scatterplot(x = predicted_test[\"Area\"], y = predicted_test[\"predictions\"], hue = predicted_test[\"difference\"])"
   ]
  },
  {
   "cell_type": "markdown",
   "metadata": {},
   "source": [
    "## ANDHERI EAST"
   ]
  },
  {
   "cell_type": "code",
   "execution_count": null,
   "metadata": {},
   "outputs": [],
   "source": [
    "data = pd.DataFrame()\n",
    "data = orig[orig['Location'].str.contains('Andheri East')]\n",
    "data['Location'] = [\"Andheri East\" for x in data['Location']] \n",
    "data"
   ]
  },
  {
   "cell_type": "code",
   "execution_count": null,
   "metadata": {},
   "outputs": [],
   "source": [
    "sns.scatterplot(x = data[\"No. of Bedrooms\"], y = data[\"Price\"])"
   ]
  },
  {
   "cell_type": "code",
   "execution_count": null,
   "metadata": {},
   "outputs": [],
   "source": [
    "sns.scatterplot(x = data[\"Area\"], y = data[\"Price\"])"
   ]
  },
  {
   "cell_type": "code",
   "execution_count": null,
   "metadata": {},
   "outputs": [],
   "source": [
    "df1 = pd.DataFrame()\n",
    "df1 = data.loc[(data[\"No. of Bedrooms\"]<4) & (data[\"Price\"]<40000000) & (data[\"Area\"]<=1500)]\n",
    "df1"
   ]
  },
  {
   "cell_type": "code",
   "execution_count": null,
   "metadata": {},
   "outputs": [],
   "source": [
    "df1.describe()"
   ]
  },
  {
   "cell_type": "code",
   "execution_count": null,
   "metadata": {
    "scrolled": false
   },
   "outputs": [],
   "source": [
    "df1.corr()"
   ]
  },
  {
   "cell_type": "code",
   "execution_count": null,
   "metadata": {},
   "outputs": [],
   "source": [
    "#x = df1[[\"Area\", \"No. of Bedrooms\", \"Gymnasium\", \"Car Parking\"]]\n",
    "x = df1.drop([\"Location\", \"Price\"], axis=1)\n",
    "y = df1[\"Price\"]\n",
    "x"
   ]
  },
  {
   "cell_type": "code",
   "execution_count": null,
   "metadata": {},
   "outputs": [],
   "source": [
    "from sklearn.model_selection import train_test_split\n",
    "\n",
    "X_train, X_test, y_train, y_test = train_test_split(x, y, test_size = 0.2, shuffle = True, random_state=1)"
   ]
  },
  {
   "cell_type": "code",
   "execution_count": null,
   "metadata": {},
   "outputs": [],
   "source": [
    "x_train = pd.DataFrame()\n",
    "x_train[\"Area\"] = X_train[\"Area\"]/X_train[\"Area\"].max()\n",
    "x_train = pd.concat((x_train, X_train.drop(\"Area\", axis=1)),axis=1)\n",
    "\n",
    "x_test = pd.DataFrame()\n",
    "x_test[\"Area\"] = X_test[\"Area\"]/X_test[\"Area\"].max()\n",
    "x_test = pd.concat((x_test, X_test.drop(\"Area\", axis=1)),axis=1)"
   ]
  },
  {
   "cell_type": "code",
   "execution_count": null,
   "metadata": {},
   "outputs": [],
   "source": [
    "# Building RandomForestRegressor().\n",
    "\n",
    "from sklearn.ensemble import RandomForestRegressor\n",
    "\n",
    "regressor = RandomForestRegressor(n_estimators= 20, random_state=1)\n",
    "regressor.fit(x_train, y_train)"
   ]
  },
  {
   "cell_type": "code",
   "execution_count": null,
   "metadata": {},
   "outputs": [],
   "source": [
    "y_pred = regressor.predict(x_test).round(1)\n",
    "y_pred"
   ]
  },
  {
   "cell_type": "code",
   "execution_count": null,
   "metadata": {},
   "outputs": [],
   "source": [
    "result = pd.DataFrame(data={'predictions': y_pred, 'actual': y_test})\n",
    "result[\"difference\"] = abs(result[\"predictions\"] - result[\"actual\"]).round(1)\n",
    "#result.to_csv(\"Result1.csv\")\n",
    "result"
   ]
  },
  {
   "cell_type": "code",
   "execution_count": null,
   "metadata": {},
   "outputs": [],
   "source": [
    "result.describe().round(1)"
   ]
  },
  {
   "cell_type": "code",
   "execution_count": null,
   "metadata": {},
   "outputs": [],
   "source": [
    "from sklearn import metrics\n",
    "print('MAE:', metrics.mean_absolute_error(y_test, y_pred))  \n",
    "print('MSE:', metrics.mean_squared_error(y_test, y_pred))  \n",
    "print('RMSE:', np.sqrt(metrics.mean_squared_error(y_test, y_pred)))\n",
    "print('R2_Score:', metrics.r2_score(y_test,y_pred))"
   ]
  },
  {
   "cell_type": "code",
   "execution_count": null,
   "metadata": {},
   "outputs": [],
   "source": [
    "#Visualising the results\n",
    "fig = plt.figure(figsize=(10,5))\n",
    "plt.scatter(y_test,y_pred)\n",
    "\n",
    "plt.plot(y_pred,y_pred,'r')"
   ]
  },
  {
   "cell_type": "code",
   "execution_count": null,
   "metadata": {
    "scrolled": true
   },
   "outputs": [],
   "source": [
    "predicted_test = pd.concat((result, X_test),axis=1)\n",
    "predicted_test.to_csv(\"Andheri East.csv\")\n",
    "predicted_test.head()"
   ]
  },
  {
   "cell_type": "code",
   "execution_count": null,
   "metadata": {},
   "outputs": [],
   "source": [
    "sns.scatterplot(x = predicted_test[\"No. of Bedrooms\"], y = predicted_test[\"predictions\"], hue = predicted_test[\"difference\"])"
   ]
  },
  {
   "cell_type": "code",
   "execution_count": null,
   "metadata": {},
   "outputs": [],
   "source": [
    "sns.scatterplot(x = predicted_test[\"Area\"], y = predicted_test[\"actual\"])\n",
    "sns.scatterplot(x = predicted_test[\"Area\"], y = predicted_test[\"predictions\"], hue = predicted_test[\"difference\"])"
   ]
  },
  {
   "cell_type": "markdown",
   "metadata": {},
   "source": [
    "## ANDHERI WEST"
   ]
  },
  {
   "cell_type": "code",
   "execution_count": null,
   "metadata": {},
   "outputs": [],
   "source": [
    "data = pd.DataFrame()\n",
    "data = orig[orig['Location'].str.contains('Andheri West')]\n",
    "data['Location'] = [\"Andheri West\" for x in data['Location']] \n",
    "data"
   ]
  },
  {
   "cell_type": "code",
   "execution_count": null,
   "metadata": {},
   "outputs": [],
   "source": [
    "sns.scatterplot(x = data[\"No. of Bedrooms\"], y = data[\"Price\"])"
   ]
  },
  {
   "cell_type": "code",
   "execution_count": null,
   "metadata": {},
   "outputs": [],
   "source": [
    "sns.scatterplot(x = data[\"Area\"], y = data[\"Price\"])"
   ]
  },
  {
   "cell_type": "code",
   "execution_count": null,
   "metadata": {},
   "outputs": [],
   "source": [
    "df1 = pd.DataFrame()\n",
    "df1 = data.loc[(data[\"No. of Bedrooms\"]<4) & (data[\"Price\"]<100000000) & (data[\"Area\"]<=2000)]\n",
    "df1"
   ]
  },
  {
   "cell_type": "code",
   "execution_count": null,
   "metadata": {},
   "outputs": [],
   "source": [
    "df1.describe()"
   ]
  },
  {
   "cell_type": "code",
   "execution_count": null,
   "metadata": {
    "scrolled": false
   },
   "outputs": [],
   "source": [
    "df1.corr()"
   ]
  },
  {
   "cell_type": "code",
   "execution_count": null,
   "metadata": {
    "scrolled": false
   },
   "outputs": [],
   "source": [
    "#x = df1[[\"Area\", \"No. of Bedrooms\", \"Gymnasium\", \"Car Parking\"]]\n",
    "x = df1.drop([\"Location\", \"Price\"], axis=1)\n",
    "y = df1[\"Price\"]\n",
    "x"
   ]
  },
  {
   "cell_type": "code",
   "execution_count": null,
   "metadata": {},
   "outputs": [],
   "source": [
    "from sklearn.model_selection import train_test_split\n",
    "\n",
    "X_train, X_test, y_train, y_test = train_test_split(x, y, test_size = 0.2, shuffle = True, random_state=1)"
   ]
  },
  {
   "cell_type": "code",
   "execution_count": null,
   "metadata": {},
   "outputs": [],
   "source": [
    "x_train = pd.DataFrame()\n",
    "x_train[\"Area\"] = X_train[\"Area\"]/X_train[\"Area\"].max()\n",
    "x_train = pd.concat((x_train, X_train.drop(\"Area\", axis=1)),axis=1)\n",
    "\n",
    "x_test = pd.DataFrame()\n",
    "x_test[\"Area\"] = X_test[\"Area\"]/X_test[\"Area\"].max()\n",
    "x_test = pd.concat((x_test, X_test.drop(\"Area\", axis=1)),axis=1)"
   ]
  },
  {
   "cell_type": "code",
   "execution_count": null,
   "metadata": {},
   "outputs": [],
   "source": [
    "# Building RandomForestRegressor().\n",
    "\n",
    "from sklearn.ensemble import RandomForestRegressor\n",
    "\n",
    "regressor = RandomForestRegressor(n_estimators= 20, random_state=1)\n",
    "regressor.fit(x_train, y_train)"
   ]
  },
  {
   "cell_type": "code",
   "execution_count": null,
   "metadata": {},
   "outputs": [],
   "source": [
    "y_pred = regressor.predict(x_test).round(1)\n",
    "y_pred"
   ]
  },
  {
   "cell_type": "code",
   "execution_count": null,
   "metadata": {},
   "outputs": [],
   "source": [
    "result = pd.DataFrame(data={'predictions': y_pred, 'actual': y_test})\n",
    "result[\"difference\"] = abs(result[\"predictions\"] - result[\"actual\"]).round(1)\n",
    "#result.to_csv(\"Result1.csv\")\n",
    "result"
   ]
  },
  {
   "cell_type": "code",
   "execution_count": null,
   "metadata": {},
   "outputs": [],
   "source": [
    "result.describe().round(1)"
   ]
  },
  {
   "cell_type": "code",
   "execution_count": null,
   "metadata": {},
   "outputs": [],
   "source": [
    "from sklearn import metrics\n",
    "print('MAE:', metrics.mean_absolute_error(y_test, y_pred))  \n",
    "print('MSE:', metrics.mean_squared_error(y_test, y_pred))  \n",
    "print('RMSE:', np.sqrt(metrics.mean_squared_error(y_test, y_pred)))\n",
    "print('R2_Score:', metrics.r2_score(y_test,y_pred))"
   ]
  },
  {
   "cell_type": "code",
   "execution_count": null,
   "metadata": {},
   "outputs": [],
   "source": [
    "#Visualising the results\n",
    "fig = plt.figure(figsize=(10,5))\n",
    "plt.scatter(y_test,y_pred)\n",
    "\n",
    "plt.plot(y_pred,y_pred,'r')"
   ]
  },
  {
   "cell_type": "code",
   "execution_count": null,
   "metadata": {
    "scrolled": true
   },
   "outputs": [],
   "source": [
    "predicted_test = pd.concat((result, X_test),axis=1)\n",
    "predicted_test.to_csv(\"Andheri West.csv\")\n",
    "predicted_test.head()"
   ]
  },
  {
   "cell_type": "code",
   "execution_count": null,
   "metadata": {},
   "outputs": [],
   "source": [
    "sns.scatterplot(x = predicted_test[\"No. of Bedrooms\"], y = predicted_test[\"predictions\"], hue = predicted_test[\"difference\"])"
   ]
  },
  {
   "cell_type": "code",
   "execution_count": null,
   "metadata": {},
   "outputs": [],
   "source": [
    "sns.scatterplot(x = predicted_test[\"Area\"], y = predicted_test[\"actual\"])\n",
    "sns.scatterplot(x = predicted_test[\"Area\"], y = predicted_test[\"predictions\"], hue = predicted_test[\"difference\"])"
   ]
  },
  {
   "cell_type": "markdown",
   "metadata": {},
   "source": [
    "## ANDHERI (East and West Combined)"
   ]
  },
  {
   "cell_type": "code",
   "execution_count": null,
   "metadata": {},
   "outputs": [],
   "source": [
    "data = pd.DataFrame()\n",
    "data = orig[orig['Location'].str.contains('Andheri')]\n",
    "data['Location'] = [\"Andheri\" for x in data['Location']] \n",
    "data"
   ]
  },
  {
   "cell_type": "code",
   "execution_count": null,
   "metadata": {},
   "outputs": [],
   "source": [
    "sns.scatterplot(x = data[\"No. of Bedrooms\"], y = data[\"Price\"])"
   ]
  },
  {
   "cell_type": "code",
   "execution_count": null,
   "metadata": {},
   "outputs": [],
   "source": [
    "sns.scatterplot(x = data[\"Area\"], y = data[\"Price\"])"
   ]
  },
  {
   "cell_type": "code",
   "execution_count": null,
   "metadata": {},
   "outputs": [],
   "source": [
    "df1 = pd.DataFrame()\n",
    "df1 = data.loc[(data[\"No. of Bedrooms\"]<4) & (data[\"Price\"]<100000000) & (data[\"Area\"]<=1500)]\n",
    "df1"
   ]
  },
  {
   "cell_type": "code",
   "execution_count": null,
   "metadata": {},
   "outputs": [],
   "source": [
    "df1.describe()"
   ]
  },
  {
   "cell_type": "code",
   "execution_count": null,
   "metadata": {
    "scrolled": false
   },
   "outputs": [],
   "source": [
    "df1.corr()"
   ]
  },
  {
   "cell_type": "code",
   "execution_count": null,
   "metadata": {},
   "outputs": [],
   "source": [
    "#x = df1[[\"Area\", \"No. of Bedrooms\", \"Gymnasium\", \"Car Parking\"]]\n",
    "x = df1.drop([\"Location\", \"Price\"], axis=1)\n",
    "y = df1[\"Price\"]\n",
    "x"
   ]
  },
  {
   "cell_type": "code",
   "execution_count": null,
   "metadata": {},
   "outputs": [],
   "source": [
    "from sklearn.model_selection import train_test_split\n",
    "\n",
    "X_train, X_test, y_train, y_test = train_test_split(x, y, test_size = 0.2, shuffle = True, random_state=1)"
   ]
  },
  {
   "cell_type": "code",
   "execution_count": null,
   "metadata": {},
   "outputs": [],
   "source": [
    "x_train = pd.DataFrame()\n",
    "x_train[\"Area\"] = X_train[\"Area\"]/X_train[\"Area\"].max()\n",
    "x_train = pd.concat((x_train, X_train.drop(\"Area\", axis=1)),axis=1)\n",
    "\n",
    "x_test = pd.DataFrame()\n",
    "x_test[\"Area\"] = X_test[\"Area\"]/X_test[\"Area\"].max()\n",
    "x_test = pd.concat((x_test, X_test.drop(\"Area\", axis=1)),axis=1)"
   ]
  },
  {
   "cell_type": "code",
   "execution_count": null,
   "metadata": {},
   "outputs": [],
   "source": [
    "# Building RandomForestRegressor().\n",
    "\n",
    "from sklearn.ensemble import RandomForestRegressor\n",
    "\n",
    "regressor = RandomForestRegressor(n_estimators= 20, random_state=1)\n",
    "regressor.fit(x_train, y_train)"
   ]
  },
  {
   "cell_type": "code",
   "execution_count": null,
   "metadata": {},
   "outputs": [],
   "source": [
    "y_pred = regressor.predict(x_test).round(1)\n",
    "y_pred"
   ]
  },
  {
   "cell_type": "code",
   "execution_count": null,
   "metadata": {},
   "outputs": [],
   "source": [
    "result = pd.DataFrame(data={'predictions': y_pred, 'actual': y_test})\n",
    "result[\"difference\"] = abs(result[\"predictions\"] - result[\"actual\"]).round(1)\n",
    "#result.to_csv(\"Result1.csv\")\n",
    "result"
   ]
  },
  {
   "cell_type": "code",
   "execution_count": null,
   "metadata": {},
   "outputs": [],
   "source": [
    "result.describe().round(1)"
   ]
  },
  {
   "cell_type": "code",
   "execution_count": null,
   "metadata": {},
   "outputs": [],
   "source": [
    "from sklearn import metrics\n",
    "print('MAE:', metrics.mean_absolute_error(y_test, y_pred))  \n",
    "print('MSE:', metrics.mean_squared_error(y_test, y_pred))  \n",
    "print('RMSE:', np.sqrt(metrics.mean_squared_error(y_test, y_pred)))\n",
    "print('R2_Score:', metrics.r2_score(y_test,y_pred))"
   ]
  },
  {
   "cell_type": "code",
   "execution_count": null,
   "metadata": {},
   "outputs": [],
   "source": [
    "#Visualising the results\n",
    "fig = plt.figure(figsize=(10,5))\n",
    "plt.scatter(y_test,y_pred)\n",
    "\n",
    "plt.plot(y_pred,y_pred,'r')"
   ]
  },
  {
   "cell_type": "code",
   "execution_count": null,
   "metadata": {
    "scrolled": true
   },
   "outputs": [],
   "source": [
    "predicted_test = pd.concat((result, X_test),axis=1)\n",
    "predicted_test.to_csv(\"Andheri.csv\")\n",
    "predicted_test.head()"
   ]
  },
  {
   "cell_type": "code",
   "execution_count": null,
   "metadata": {},
   "outputs": [],
   "source": [
    "sns.scatterplot(x = predicted_test[\"No. of Bedrooms\"], y = predicted_test[\"predictions\"], hue = predicted_test[\"difference\"])"
   ]
  },
  {
   "cell_type": "code",
   "execution_count": null,
   "metadata": {},
   "outputs": [],
   "source": [
    "sns.scatterplot(x = predicted_test[\"Area\"], y = predicted_test[\"actual\"])\n",
    "sns.scatterplot(x = predicted_test[\"Area\"], y = predicted_test[\"predictions\"], hue = predicted_test[\"difference\"])"
   ]
  },
  {
   "cell_type": "markdown",
   "metadata": {},
   "source": [
    "## GET DUMMIES"
   ]
  },
  {
   "cell_type": "code",
   "execution_count": null,
   "metadata": {},
   "outputs": [],
   "source": [
    "df1[\"Food\"] = [80 for x in df1['Location']]\n",
    "df2[\"Food\"] = [80 for x in df2['Location']]\n",
    "df3[\"Food\"] = [80 for x in df3['Location']]\n",
    "df4[\"Food\"] = [70 for x in df4['Location']]"
   ]
  },
  {
   "cell_type": "code",
   "execution_count": null,
   "metadata": {},
   "outputs": [],
   "source": [
    "train_data = pd.DataFrame()\n",
    "train_data = pd.concat((train_data, df1.iloc[:,:]))\n",
    "train_data = pd.concat((train_data, df2.iloc[:,:]))\n",
    "train_data = pd.concat((train_data, df3.iloc[:,:]))\n",
    "train_data = pd.concat((train_data, df4.iloc[:,:]))\n",
    "train_data"
   ]
  },
  {
   "cell_type": "code",
   "execution_count": null,
   "metadata": {},
   "outputs": [],
   "source": [
    "train_data[\"Area\"] = train_data[\"Area\"]/train_data[\"Area\"].max()\n",
    "train_data[\"Price\"] = train_data[\"Price\"]/train_data[\"Price\"].max()"
   ]
  },
  {
   "cell_type": "code",
   "execution_count": null,
   "metadata": {},
   "outputs": [],
   "source": [
    "data_with_dummies= pd.get_dummies(train_data,columns=[\"Location\"], drop_first=False)\n",
    "data_with_dummies[\"Area\"] = data_with_dummies[\"Area\"]/data_with_dummies[\"Area\"].max()\n",
    "data_with_dummies"
   ]
  },
  {
   "cell_type": "markdown",
   "metadata": {},
   "source": [
    "## RANDOM FOREST"
   ]
  },
  {
   "cell_type": "code",
   "execution_count": null,
   "metadata": {},
   "outputs": [],
   "source": [
    "# Building RandomForestRegressor().\n",
    "\n",
    "from sklearn.ensemble import RandomForestRegressor\n",
    "\n",
    "regressor = RandomForestRegressor(n_estimators= 20, random_state=1)\n",
    "regressor.fit(train_data.drop([\"Location\", \"Food\"], axis=1), train_data[\"Food\"])"
   ]
  },
  {
   "cell_type": "code",
   "execution_count": null,
   "metadata": {},
   "outputs": [],
   "source": [
    "df5[\"Area\"] = df5[\"Area\"]/df5[\"Area\"].max()\n",
    "df5[\"Price\"] = df5[\"Price\"]/df5[\"Price\"].max()"
   ]
  },
  {
   "cell_type": "code",
   "execution_count": null,
   "metadata": {
    "scrolled": false
   },
   "outputs": [],
   "source": [
    "y_pred = regressor.predict(df5.drop(\"Location\", axis=1)).round(1)\n",
    "y_pred"
   ]
  },
  {
   "cell_type": "code",
   "execution_count": null,
   "metadata": {
    "scrolled": false
   },
   "outputs": [],
   "source": [
    "result = pd.DataFrame(data={'predictions': y_pred})\n",
    "#result.to_csv(\"Result1.csv\")\n",
    "result"
   ]
  },
  {
   "cell_type": "code",
   "execution_count": null,
   "metadata": {},
   "outputs": [],
   "source": [
    "result.describe().round(1)"
   ]
  },
  {
   "cell_type": "code",
   "execution_count": null,
   "metadata": {
    "scrolled": true
   },
   "outputs": [],
   "source": [
    "predicted_test = pd.concat((df5.reset_index().iloc[:,1:], result), axis=1)\n",
    "predicted_test[\"Norm_Food\"] = abs(predicted_test[\"predictions\"]*predicted_test[\"Price\"]).round(1)\n",
    "predicted_test.to_csv(\"Thane West Food.csv\")\n",
    "predicted_test"
   ]
  },
  {
   "cell_type": "code",
   "execution_count": null,
   "metadata": {},
   "outputs": [],
   "source": [
    "sns.histplot(data=predicted_test, x=\"Price\", stat=\"density\")"
   ]
  },
  {
   "cell_type": "code",
   "execution_count": null,
   "metadata": {},
   "outputs": [],
   "source": [
    "sns.histplot(data=predicted_test, x=\"predictions\", stat=\"density\")"
   ]
  },
  {
   "cell_type": "code",
   "execution_count": null,
   "metadata": {
    "scrolled": true
   },
   "outputs": [],
   "source": [
    "sns.histplot(data=predicted_test, x=\"Norm_Food\", stat=\"density\")"
   ]
  },
  {
   "cell_type": "markdown",
   "metadata": {},
   "source": [
    "## EXTRA"
   ]
  },
  {
   "cell_type": "code",
   "execution_count": null,
   "metadata": {
    "scrolled": false
   },
   "outputs": [],
   "source": [
    "temp = data[\"Location\"].unique()\n",
    "temp"
   ]
  },
  {
   "cell_type": "code",
   "execution_count": null,
   "metadata": {},
   "outputs": [],
   "source": [
    "from sklearn.metrics import r2_score\n",
    "def fun(lc):\n",
    "    y_test_temp = []\n",
    "    y_pred_temp = []\n",
    "    for x in range(len(x_test)):\n",
    "        if x_test[\"Location_\" + lc].to_numpy()[x]:\n",
    "            y_test_temp.append(y_test.to_numpy()[x])\n",
    "            y_pred_temp.append(y_pred[x])\n",
    "    if y_test_temp == []:\n",
    "        return 0\n",
    "    if len(y_test_temp) == 1:\n",
    "        return 1\n",
    "    return r2_score(y_test_temp, y_pred_temp)\n",
    "\n",
    "loct = []\n",
    "r2_score_result = []\n",
    "\n",
    "for x in temp:\n",
    "    loct.append(x)\n",
    "    r2_score_result.append(fun(x))\n",
    "\n",
    "loc_data = pd.DataFrame({'Location': loct, 'R2_score': r2_score_result})\n",
    "loc_data.to_csv(\"Location_based_score.csv\")"
   ]
  },
  {
   "cell_type": "code",
   "execution_count": null,
   "metadata": {},
   "outputs": [],
   "source": [
    "loc_data.info()"
   ]
  },
  {
   "cell_type": "code",
   "execution_count": null,
   "metadata": {
    "scrolled": true
   },
   "outputs": [],
   "source": [
    "loc_data.describe()"
   ]
  },
  {
   "cell_type": "code",
   "execution_count": null,
   "metadata": {},
   "outputs": [],
   "source": [
    "import statsmodels.api as sm\n",
    "from statsmodels.stats.outliers_influence import variance_inflation_factor\n",
    "\n",
    "features = \"+\".join(x.columns)\n",
    "vif = pd.DataFrame()\n",
    "vif[\"VIF Factor\"] = [variance_inflation_factor(x.values, i) for i in range(x.shape[1])]\n",
    "vif[\"features\"] = x.columns\n",
    "vif.round(1)"
   ]
  },
  {
   "cell_type": "code",
   "execution_count": null,
   "metadata": {},
   "outputs": [],
   "source": [
    "# Import TPOTClassifier and roc_auc_score\n",
    "from tpot import TPOTRegressor\n",
    "from sklearn.model_selection import RepeatedKFold\n",
    "from sklearn.metrics import r2_score\n",
    "\n",
    "# Instantiate TPOTRegressor\n",
    "cv = RepeatedKFold(n_splits=5, n_repeats=2, random_state=1)\n",
    "# define search\n",
    "model = TPOTRegressor(generations=5, \n",
    "                      population_size=20, \n",
    "                      scoring='r2', \n",
    "                      cv=cv, \n",
    "                      verbosity=2, \n",
    "                      random_state=1, \n",
    "                      n_jobs=-1)\n",
    "# perform the search\n",
    "model.fit(x_train, y_train)\n",
    "\n",
    "# AUC score for tpot model\n",
    "tpot_r2_score = r2_score(y_test, model.predict(x_test))\n",
    "print(f'\\nR2 score: {tpot_r2_score:.4f}')\n"
   ]
  },
  {
   "cell_type": "markdown",
   "metadata": {},
   "source": [
    "## ROUGH WORK"
   ]
  },
  {
   "cell_type": "markdown",
   "metadata": {},
   "source": [
    "    Kharghar          533  83   80:\"Area, No. of Bedrooms, Gymnasium, Car Parking\"\n",
    "    Mira Road East    390  84\n",
    "    Borivali West     176  81\n",
    "    Powai             141  \n",
    "    Malad West        163\n",
    "\n",
    "\n",
    "    Thane West        418\n",
    "    Andheri West      161\n",
    "    Andheri East\n",
    "    \n",
    "    \n",
    "    \n",
    "    \n",
    "    <1 lakh:    \n",
    "                %age= 5%\n",
    "                avg= 1,12,21,000\n",
    "                min= 28,75,000\n",
    "                max= 1,75,00,000\n",
    "    \n",
    "    1 to 5 lakh:    \n",
    "                %age= 13.5\n",
    "                avg= 64,49,909\n",
    "                min= 27,99,000\n",
    "                max= 1,31,00,000\n",
    "    \n",
    "    5 to 10 lakh:    \n",
    "                %age= 22\n",
    "                avg= 80,59,222\n",
    "                min= 25,99,000\n",
    "                max= 1,55,00,000\n",
    "    \n",
    "    10 to 15 lakh:    \n",
    "                %age= 11\n",
    "                avg= 88,40,999\n",
    "                min= 54,00,000\n",
    "                max= 1,27,00,000 \n",
    "    \n",
    "    15 to 20 lakh:    \n",
    "                %age= 10\n",
    "                avg= 79,86,000\n",
    "                min= 42,99,000\n",
    "                max= 1,46,00,000 \n",
    "    \n",
    "    20 to 30 lakh:    \n",
    "                %age= 16\n",
    "                avg= 1,25,19,230\n",
    "                min= 30,00,000\n",
    "                max= 2,46,00,000  \n",
    "                \n",
    "    >30 lakh:    \n",
    "                %age= 22\n",
    "                avg= 1,52,94,333\n",
    "                min= 52,99,000\n",
    "                max= 2,84,00,000"
   ]
  }
 ],
 "metadata": {
  "kernelspec": {
   "display_name": "Python 3",
   "language": "python",
   "name": "python3"
  },
  "language_info": {
   "codemirror_mode": {
    "name": "ipython",
    "version": 3
   },
   "file_extension": ".py",
   "mimetype": "text/x-python",
   "name": "python",
   "nbconvert_exporter": "python",
   "pygments_lexer": "ipython3",
   "version": "3.8.5"
  }
 },
 "nbformat": 4,
 "nbformat_minor": 4
}
