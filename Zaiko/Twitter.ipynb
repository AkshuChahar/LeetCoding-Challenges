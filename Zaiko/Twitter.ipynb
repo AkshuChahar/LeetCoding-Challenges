{
 "cells": [
  {
   "cell_type": "code",
   "execution_count": null,
   "metadata": {},
   "outputs": [],
   "source": [
    "from tweepy import *\n",
    " \n",
    "import pandas as pd\n",
    "import csv\n",
    "import re \n",
    "import string\n",
    "import matplotlib.pyplot as plt\n",
    "import seaborn as sns"
   ]
  },
  {
   "cell_type": "markdown",
   "metadata": {},
   "source": [
    "API KEY = \"OgwckJ418sLScsTO9DpQmxXzk\"\n",
    "\n",
    "API SECRET KEY = \"wkCvzX5E2iIqd6nLZo4yymuHuu3LqBzk23ekpuBH9vb6rGGbIE\"\n",
    "\n",
    "BEARER TOKEN = AAAAAAAAAAAAAAAAAAAAAAqiQQEAAAAAcSs%2Fy2e%2BktADXaXiniLKMM1jQt8%3DA3oaO4gAlMHsWpistoC1JtrRsTgzzAhC5NtVfSf9LtCSP2j6Vu\n",
    "\n",
    "ACCESS TOKEN = \"1400121077049839618-7trzJ7angyMpDUwpsxhPZm6Yy7dRof\"\n",
    "\n",
    "ACCESS SECRET TOKEN = \"ixbPeYUQ9qZfUC1XooZaF7C7AapgZVtqx3R2Tm1mYWklK\""
   ]
  },
  {
   "cell_type": "code",
   "execution_count": null,
   "metadata": {},
   "outputs": [],
   "source": [
    "consumer_key = \"OgwckJ418sLScsTO9DpQmxXzk\"\n",
    "consumer_secret = \"wkCvzX5E2iIqd6nLZo4yymuHuu3LqBzk23ekpuBH9vb6rGGbIE\"\n",
    "access_key= \"1400121077049839618-7trzJ7angyMpDUwpsxhPZm6Yy7dRof\"\n",
    "access_secret = \"ixbPeYUQ9qZfUC1XooZaF7C7AapgZVtqx3R2Tm1mYWklK\""
   ]
  },
  {
   "cell_type": "code",
   "execution_count": null,
   "metadata": {},
   "outputs": [],
   "source": [
    "auth = OAuthHandler(consumer_key, consumer_secret)\n",
    "auth.set_access_token(access_key, access_secret)"
   ]
  },
  {
   "cell_type": "code",
   "execution_count": null,
   "metadata": {},
   "outputs": [],
   "source": [
    "api = API(auth)"
   ]
  },
  {
   "cell_type": "markdown",
   "metadata": {},
   "source": [
    "[\"home cooked food\", \"home cooked food delivery\", \"menu home cooked\", \"homemade food near me\", \"homemade food delivery\", \"homemade cake near me\", \"homemade pickles near me\", \"homemade pizza near me\", \"homemade cakes near me\", \"tiffins near me\", \"south indian tiffins\", \"morning tiffins\", \"tiffins online\"]\n",
    "\n",
    "[\"mumbai tiffins\", \"pune tiffins\", \"#Tiffinservice\", \"#tiffinforcorporate\", \"#onlinetiffin\", \"#tiffinserviceindia\", \"#onlinetiffinservice\", \"#tiffin\", \"#TIFFIN\"]"
   ]
  },
  {
   "cell_type": "markdown",
   "metadata": {},
   "source": [
    "### Mumbai Dabbawala"
   ]
  },
  {
   "cell_type": "code",
   "execution_count": null,
   "metadata": {},
   "outputs": [],
   "source": [
    "x = api.user_timeline(\"mumbaidabbawale\")"
   ]
  },
  {
   "cell_type": "code",
   "execution_count": null,
   "metadata": {},
   "outputs": [],
   "source": [
    "def word_count(str):\n",
    "    counts = dict()\n",
    "    words = str.split()\n",
    "\n",
    "    for word in words:\n",
    "        if word in counts:\n",
    "            counts[word] += 1\n",
    "        else:\n",
    "            counts[word] = 1\n",
    "\n",
    "    return counts\n",
    "\n",
    "data = \"\"\n",
    "for t in x:\n",
    "    data += t.text\n",
    "print(word_count(data))"
   ]
  },
  {
   "cell_type": "code",
   "execution_count": null,
   "metadata": {},
   "outputs": [],
   "source": [
    "keys = word_count(data).keys()\n",
    "values = word_count(data).values()\n",
    "\n",
    "d = {}\n",
    "d['words'] = keys\n",
    "d['count'] = values\n",
    "df = pd.DataFrame(d)\n",
    "df = df.sort_values('count', ascending=False)\n",
    "print(df[df['words'].str.contains('#')])"
   ]
  },
  {
   "cell_type": "markdown",
   "metadata": {},
   "source": [
    "### Spice Box"
   ]
  },
  {
   "cell_type": "code",
   "execution_count": null,
   "metadata": {},
   "outputs": [],
   "source": [
    "x = api.user_timeline(\"SpiceBoxMumbai\")"
   ]
  },
  {
   "cell_type": "code",
   "execution_count": null,
   "metadata": {},
   "outputs": [],
   "source": [
    "data = \"\"\n",
    "for t in x:\n",
    "    data += t.text\n",
    "print(word_count(data))"
   ]
  },
  {
   "cell_type": "code",
   "execution_count": null,
   "metadata": {},
   "outputs": [],
   "source": [
    "keys = word_count(data).keys()\n",
    "values = word_count(data).values()\n",
    "\n",
    "d = {}\n",
    "d['words'] = keys\n",
    "d['count'] = values\n",
    "df = pd.DataFrame(d)\n",
    "df = df.sort_values('count', ascending=False)\n",
    "print(df[df['words'].str.contains('#')])"
   ]
  },
  {
   "cell_type": "markdown",
   "metadata": {},
   "source": [
    "### Yummy Tiffins"
   ]
  },
  {
   "cell_type": "code",
   "execution_count": null,
   "metadata": {},
   "outputs": [],
   "source": [
    "x = api.user_timeline(\"TheYummyTiffin\")"
   ]
  },
  {
   "cell_type": "code",
   "execution_count": null,
   "metadata": {},
   "outputs": [],
   "source": [
    "data = \"\"\n",
    "for t in x:\n",
    "    data += t.text\n",
    "print(word_count(data))"
   ]
  },
  {
   "cell_type": "code",
   "execution_count": null,
   "metadata": {},
   "outputs": [],
   "source": [
    "keys = word_count(data).keys()\n",
    "values = word_count(data).values()\n",
    "\n",
    "d = {}\n",
    "d['words'] = keys\n",
    "d['count'] = values\n",
    "df = pd.DataFrame(d)\n",
    "df = df.sort_values('count', ascending=False)\n",
    "print(df[df['words'].str.contains('#')])"
   ]
  },
  {
   "cell_type": "markdown",
   "metadata": {},
   "source": [
    "### Happy Grub"
   ]
  },
  {
   "cell_type": "code",
   "execution_count": null,
   "metadata": {},
   "outputs": [],
   "source": [
    "x = api.user_timeline(\"happy_Grub\")\n",
    "\n",
    "data = \"\"\n",
    "\n",
    "for t in x:\n",
    "    data += t.text\n",
    "\n",
    "keys = word_count(data).keys()\n",
    "values = word_count(data).values()\n",
    "\n",
    "d = {}\n",
    "d['words'] = keys\n",
    "d['count'] = values\n",
    "df = pd.DataFrame(d)\n",
    "df = df.sort_values('count', ascending=False)\n",
    "print(df[df['words'].str.contains('#')])"
   ]
  },
  {
   "cell_type": "code",
   "execution_count": null,
   "metadata": {},
   "outputs": [],
   "source": []
  }
 ],
 "metadata": {
  "kernelspec": {
   "display_name": "Python 3",
   "language": "python",
   "name": "python3"
  },
  "language_info": {
   "codemirror_mode": {
    "name": "ipython",
    "version": 3
   },
   "file_extension": ".py",
   "mimetype": "text/x-python",
   "name": "python",
   "nbconvert_exporter": "python",
   "pygments_lexer": "ipython3",
   "version": "3.8.5"
  }
 },
 "nbformat": 4,
 "nbformat_minor": 4
}
